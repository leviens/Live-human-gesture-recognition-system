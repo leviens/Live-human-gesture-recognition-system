{
 "cells": [
  {
   "cell_type": "code",
   "execution_count": 22,
   "id": "51314774-67db-400c-a262-c70f205653f0",
   "metadata": {},
   "outputs": [],
   "source": [
    "import cv2\n",
    "import os\n",
    "import numpy as np\n",
    "import mediapipe as mp\n",
    "\n",
    "import csv"
   ]
  },
  {
   "cell_type": "code",
   "execution_count": 23,
   "id": "6bdab98f-6ae9-4688-b1e5-0eca56a311a3",
   "metadata": {},
   "outputs": [],
   "source": [
    "#@markdown We implemented some functions to visualize the hand landmark detection results. <br/> Run the following cell to activate the functions.\n",
    "\n",
    "from mediapipe import solutions\n",
    "from mediapipe.framework.formats import landmark_pb2\n",
    "import numpy as np\n",
    "\n",
    "MARGIN = 10  # pixels\n",
    "FONT_SIZE = 1\n",
    "FONT_THICKNESS = 1\n",
    "HANDEDNESS_TEXT_COLOR = (88, 205, 54) # vibrant green\n",
    "\n",
    "def draw_landmarks_on_image(rgb_image, detection_result):\n",
    "  hand_landmarks_list = detection_result.hand_landmarks\n",
    "  handedness_list = detection_result.handedness\n",
    "  annotated_image = np.copy(rgb_image)\n",
    "\n",
    "  # Loop through the detected hands to visualize.\n",
    "  for idx in range(len(hand_landmarks_list)):\n",
    "    hand_landmarks = hand_landmarks_list[idx]\n",
    "    handedness = handedness_list[idx]\n",
    "\n",
    "    # Draw the hand landmarks.\n",
    "    hand_landmarks_proto = landmark_pb2.NormalizedLandmarkList()\n",
    "    hand_landmarks_proto.landmark.extend([\n",
    "      landmark_pb2.NormalizedLandmark(x=landmark.x, y=landmark.y, z=landmark.z) for landmark in hand_landmarks\n",
    "    ])\n",
    "    solutions.drawing_utils.draw_landmarks(\n",
    "      annotated_image,\n",
    "      hand_landmarks_proto,\n",
    "      solutions.hands.HAND_CONNECTIONS,\n",
    "      solutions.drawing_styles.get_default_hand_landmarks_style(),\n",
    "      solutions.drawing_styles.get_default_hand_connections_style())\n",
    "\n",
    "    # Get the top left corner of the detected hand's bounding box.\n",
    "    height, width, _ = annotated_image.shape\n",
    "    x_coordinates = [landmark.x for landmark in hand_landmarks]\n",
    "    y_coordinates = [landmark.y for landmark in hand_landmarks]\n",
    "    text_x = int(min(x_coordinates) * width)\n",
    "    text_y = int(min(y_coordinates) * height) - MARGIN\n",
    "\n",
    "    # Draw handedness (left or right hand) on the image.\n",
    "    cv2.putText(annotated_image, f\"{handedness[0].category_name}\",\n",
    "                (text_x, text_y), cv2.FONT_HERSHEY_DUPLEX,\n",
    "                FONT_SIZE, HANDEDNESS_TEXT_COLOR, FONT_THICKNESS, cv2.LINE_AA)\n",
    "\n",
    "  return annotated_image"
   ]
  },
  {
   "cell_type": "code",
   "execution_count": 24,
   "id": "06031fc5-4843-45a1-8765-a43b5f799298",
   "metadata": {},
   "outputs": [],
   "source": [
    "#Bisogna avere installata la libreria mediapipe\n",
    "import mediapipe as mp\n",
    "from mediapipe.tasks import python\n",
    "from mediapipe.tasks.python import vision\n",
    "\n",
    "from mediapipe import solutions\n",
    "from mediapipe.framework.formats import landmark_pb2"
   ]
  },
  {
   "cell_type": "code",
   "execution_count": 25,
   "id": "ffe2d78a-bb13-4710-9d95-4ee06a1411af",
   "metadata": {},
   "outputs": [
    {
     "name": "stdout",
     "output_type": "stream",
     "text": [
      "File downloaded successfully.\n"
     ]
    }
   ],
   "source": [
    "import requests\n",
    "\n",
    "url = \"https://storage.googleapis.com/mediapipe-models/hand_landmarker/hand_landmarker/float16/1/hand_landmarker.task\"\n",
    "response = requests.get(url)\n",
    "\n",
    "with open(\"hand_landmarker.task\", \"wb\") as f:\n",
    "    f.write(response.content)\n",
    "\n",
    "print(\"File downloaded successfully.\")"
   ]
  },
  {
   "cell_type": "code",
   "execution_count": 26,
   "id": "3185c731-8ef9-4c7b-9c7d-9297377428e7",
   "metadata": {},
   "outputs": [],
   "source": [
    "#Creo un oggetto Hand Landmarker\n",
    "base_options = python.BaseOptions(model_asset_path='hand_landmarker.task')\n",
    "options = vision.HandLandmarkerOptions(base_options=base_options,\n",
    "                                       num_hands=2)\n",
    "detector = vision.HandLandmarker.create_from_options(options)"
   ]
  },
  {
   "cell_type": "code",
   "execution_count": 35,
   "id": "17607917-2066-4417-8a6a-5020947916c2",
   "metadata": {},
   "outputs": [],
   "source": [
    "def video_to_data(video_path,filename):\n",
    "# Verify the video path exists\n",
    "    if not os.path.exists(video_path):\n",
    "        raise FileNotFoundError(f\"The video path {video_path} does not exist.\")\n",
    "\n",
    "# Load the video\n",
    "    #the file names of the videos specify the label: it's the last number before .mp4\n",
    "    label = video_path[-5]\n",
    "    cap = cv2.VideoCapture(video_path)\n",
    "    mani=0\n",
    "    frame_count = 0\n",
    "    while cap.isOpened():\n",
    "        ret, frame = cap.read()\n",
    "        if not ret:\n",
    "            break\n",
    "        # Applico il detector di mediapipe e ottengo i risultati\n",
    "        image = mp.Image(image_format=mp.ImageFormat.SRGB, data=frame)\n",
    "        detection_result = detector.detect(image)\n",
    "\n",
    "        hand_landmarks_list = detection_result.hand_landmarks\n",
    "        handedness_list = detection_result.handedness\n",
    "        \n",
    "        for idx in range(len(hand_landmarks_list)):\n",
    "            hand_landmarks = hand_landmarks_list[idx]\n",
    "            handedness = handedness_list[idx][0].index\n",
    "            #ignoro la mano sinistra\n",
    "            #if handedness == 1:\n",
    "                #break\n",
    "            x_coordinates = [landmark.x for landmark in hand_landmarks]\n",
    "            y_coordinates = [landmark.y for landmark in hand_landmarks]\n",
    "            z_coordinates = [landmark.z for landmark in hand_landmarks]\n",
    "            mani+=1\n",
    "            \n",
    "            with open(filename, mode='a', newline='') as file:\n",
    "                writer = csv.writer(file)\n",
    "                for idx in range(len(hand_landmarks_list)):\n",
    "                # Write vector and label in a row\n",
    "                    writer.writerow([handedness] + x_coordinates + y_coordinates + z_coordinates + [label])\n",
    "            \n",
    "\n",
    "            \n",
    "        \n",
    "        frame_count += 1\n",
    "\n",
    "    cap.release()\n",
    "    cv2.destroyAllWindows()\n",
    "    print(\"finito\")\n",
    "\n",
    "#print(mani)\n"
   ]
  },
  {
   "cell_type": "code",
   "execution_count": 36,
   "id": "217f0bdc-5a5d-43dd-b8bb-bae944b8f9a4",
   "metadata": {},
   "outputs": [],
   "source": [
    "def videos_to_data(folder_path, output_csv):\n",
    "    video_files = [f for f in os.listdir(folder_path) if f.endswith('.mp4')]  # List all .mp4 videos\n",
    "    \n",
    "    for video_file in video_files:\n",
    "        video_path = os.path.join(folder_path, video_file)\n",
    "        video_to_data(video_path, output_csv)"
   ]
  },
  {
   "cell_type": "code",
   "execution_count": 37,
   "id": "2de4fb26-62d6-4c13-84d5-5edd6ab5a1de",
   "metadata": {},
   "outputs": [
    {
     "name": "stderr",
     "output_type": "stream",
     "text": [
      "<>:1: SyntaxWarning: invalid escape sequence '\\p'\n",
      "<>:1: SyntaxWarning: invalid escape sequence '\\p'\n",
      "C:\\Users\\Marco\\AppData\\Local\\Temp\\ipykernel_8832\\2011620950.py:1: SyntaxWarning: invalid escape sequence '\\p'\n",
      "  videos_to_data('D:/progetto_video/videos3', 'D:\\progetto_video\\dataset\\dataset_nuovo_sx.csv')\n"
     ]
    },
    {
     "name": "stdout",
     "output_type": "stream",
     "text": [
      "finito\n",
      "finito\n",
      "finito\n",
      "finito\n",
      "finito\n",
      "finito\n"
     ]
    }
   ],
   "source": [
    "videos_to_data('D:/progetto_video/videos3', 'D:\\progetto_video\\dataset\\dataset_nuovo_sx.csv')"
   ]
  },
  {
   "cell_type": "code",
   "execution_count": 30,
   "id": "cc4f5fd5-1efe-4940-9eb2-7db993dbfaed",
   "metadata": {},
   "outputs": [
    {
     "name": "stderr",
     "output_type": "stream",
     "text": [
      "<>:2: SyntaxWarning: invalid escape sequence '\\p'\n",
      "<>:2: SyntaxWarning: invalid escape sequence '\\p'\n",
      "C:\\Users\\Marco\\AppData\\Local\\Temp\\ipykernel_8832\\2870159594.py:2: SyntaxWarning: invalid escape sequence '\\p'\n",
      "  with open('D:\\progetto_video\\dataset\\dataset.csv', 'r') as file:\n"
     ]
    }
   ],
   "source": [
    "import csv\n",
    "with open('D:\\progetto_video\\dataset\\dataset.csv', 'r') as file:\n",
    "    reader = csv.reader(file)\n",
    "    lista = []\n",
    "    for row in reader:\n",
    "        # Each row is a list of values (strings)\n",
    "        lista.append(row[-1])\n"
   ]
  },
  {
   "cell_type": "code",
   "execution_count": 31,
   "id": "7888b1c7-b78d-45df-ad48-eb0df4bb5af0",
   "metadata": {},
   "outputs": [],
   "source": [
    "import numpy as np\n",
    "lista = [int(i) for i in lista]\n",
    "lista = np.array(lista)\n",
    "labels = []\n",
    "for i in range(1,8):\n",
    "    labels.append(np.sum(lista==i))"
   ]
  },
  {
   "cell_type": "code",
   "execution_count": 32,
   "id": "63661ec9-c40e-44f0-b6ff-16459ef5fd27",
   "metadata": {},
   "outputs": [
    {
     "name": "stdout",
     "output_type": "stream",
     "text": [
      "[991, 1075, 1145, 1240, 1156, 1081, 1137]\n"
     ]
    }
   ],
   "source": [
    "print(labels)"
   ]
  },
  {
   "cell_type": "code",
   "execution_count": 9,
   "id": "72170af6-5d1c-4511-b1f7-7434a89f4c33",
   "metadata": {},
   "outputs": [
    {
     "name": "stderr",
     "output_type": "stream",
     "text": [
      "<>:4: SyntaxWarning: invalid escape sequence '\\p'\n",
      "<>:18: SyntaxWarning: invalid escape sequence '\\p'\n",
      "<>:4: SyntaxWarning: invalid escape sequence '\\p'\n",
      "<>:18: SyntaxWarning: invalid escape sequence '\\p'\n",
      "C:\\Users\\Marco\\AppData\\Local\\Temp\\ipykernel_8832\\1644814952.py:4: SyntaxWarning: invalid escape sequence '\\p'\n",
      "  df = pd.read_csv('D:\\progetto_video\\dataset\\dataset.csv')\n",
      "C:\\Users\\Marco\\AppData\\Local\\Temp\\ipykernel_8832\\1644814952.py:18: SyntaxWarning: invalid escape sequence '\\p'\n",
      "  df_cleaned.to_csv('D:\\progetto_video\\dataset\\dataset.csv', index=False)\n"
     ]
    },
    {
     "name": "stdout",
     "output_type": "stream",
     "text": [
      "Rows with the label removed and label 8 changed to 7 successfully.\n"
     ]
    }
   ],
   "source": [
    "import pandas as pd\n",
    "\n",
    "# Load the CSV file\n",
    "df = pd.read_csv('D:\\progetto_video\\dataset\\dataset.csv')\n",
    "\n",
    "# Define the label you want to remove and the label to change\n",
    "label_to_remove = '7'\n",
    "old_label = 8\n",
    "new_label = 7\n",
    "\n",
    "# Remove rows where the last column matches the label_to_remove\n",
    "df_cleaned = df[df.iloc[:, -1] != label_to_remove]\n",
    "\n",
    "# Replace the old label with the new label in the last column\n",
    "df_cleaned.iloc[:, -1] = df_cleaned.iloc[:, -1].replace(old_label, new_label)\n",
    "\n",
    "# Overwrite the original file with the cleaned and updated data\n",
    "df_cleaned.to_csv('D:\\progetto_video\\dataset\\dataset.csv', index=False)\n",
    "\n",
    "print(\"Rows with the label removed and label 8 changed to 7 successfully.\")\n"
   ]
  },
  {
   "cell_type": "code",
   "execution_count": 21,
   "id": "f656c829-da30-48d6-a587-85a23de2a95d",
   "metadata": {},
   "outputs": [
    {
     "name": "stderr",
     "output_type": "stream",
     "text": [
      "<>:1: SyntaxWarning: invalid escape sequence '\\p'\n",
      "<>:3: SyntaxWarning: invalid escape sequence '\\p'\n",
      "<>:1: SyntaxWarning: invalid escape sequence '\\p'\n",
      "<>:3: SyntaxWarning: invalid escape sequence '\\p'\n",
      "C:\\Users\\Marco\\AppData\\Local\\Temp\\ipykernel_8832\\3221072774.py:1: SyntaxWarning: invalid escape sequence '\\p'\n",
      "  df = pd.read_csv('D:\\progetto_video\\dataset\\dataset.csv')\n",
      "C:\\Users\\Marco\\AppData\\Local\\Temp\\ipykernel_8832\\3221072774.py:3: SyntaxWarning: invalid escape sequence '\\p'\n",
      "  df_cleaned.to_csv('D:\\progetto_video\\dataset\\dataset.csv', index=False)\n"
     ]
    }
   ],
   "source": [
    "df = pd.read_csv('D:\\progetto_video\\dataset\\dataset.csv')\n",
    "df_cleaned = df[df.iloc[:, -1] != label_to_remove]\n",
    "df_cleaned.to_csv('D:\\progetto_video\\dataset\\dataset.csv', index=False)"
   ]
  },
  {
   "cell_type": "code",
   "execution_count": null,
   "id": "80f7dc43-ce0b-4981-93ad-8d61a6e49c3a",
   "metadata": {},
   "outputs": [],
   "source": []
  }
 ],
 "metadata": {
  "kernelspec": {
   "display_name": "Python 3 (ipykernel)",
   "language": "python",
   "name": "python3"
  },
  "language_info": {
   "codemirror_mode": {
    "name": "ipython",
    "version": 3
   },
   "file_extension": ".py",
   "mimetype": "text/x-python",
   "name": "python",
   "nbconvert_exporter": "python",
   "pygments_lexer": "ipython3",
   "version": "3.12.4"
  }
 },
 "nbformat": 4,
 "nbformat_minor": 5
}
